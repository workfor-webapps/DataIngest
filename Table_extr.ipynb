{
 "cells": [
  {
   "cell_type": "markdown",
   "metadata": {},
   "source": [
    "# PDF table exptraction  "
   ]
  },
  {
   "cell_type": "code",
   "execution_count": null,
   "metadata": {},
   "outputs": [],
   "source": [
    "import os\n",
    "import sys\n",
    "import tabula\n",
    "import PyPDF2\n",
    "import os\n",
    "import pandas as pd"
   ]
  },
  {
   "cell_type": "code",
   "execution_count": null,
   "metadata": {},
   "outputs": [],
   "source": [
    "path = os.getcwd()\n",
    "path = path+'/PDFs/'\n"
   ]
  },
  {
   "cell_type": "markdown",
   "metadata": {},
   "source": [
    "### Reading pdf files using tabula and pypdf"
   ]
  },
  {
   "cell_type": "code",
   "execution_count": null,
   "metadata": {},
   "outputs": [],
   "source": [
    "\n",
    "# reading PDF file to extract tables from\n",
    "file = path+\"./B.pdf\"\n",
    "tables = tabula.read_pdf(file, multiple_tables=True, pages='all')\n",
    "pdf_file = PyPDF2.PdfFileReader(open(file,'rb'))"
   ]
  },
  {
   "cell_type": "code",
   "execution_count": null,
   "metadata": {},
   "outputs": [],
   "source": [
    "# get number of pages in pdf file \n",
    "totalPages = pdf_file.numPages\n",
    "print(totalPages)\n"
   ]
  },
  {
   "cell_type": "markdown",
   "metadata": {},
   "source": [
    "### First attempt to find and correct 90 deg rotated pages "
   ]
  },
  {
   "cell_type": "code",
   "execution_count": null,
   "metadata": {},
   "outputs": [],
   "source": [
    "for i in range(1,totalPages):\n",
    "    #print (pdf_file.getPage(i).get('/Rotate'))\n",
    "    #check if file is rotated at any angle, if yes, print the information in the file\n",
    "    if (pdf_file.getPage(i).get('/Rotate') != None and (pdf_file.getPage(i).get('/Rotate')) != 0):\n",
    "        print(\"Page: \"+str(i)+\" \"+\"Angle: \"+str(pdf_file.getPage(i).get('/Rotate')))\n",
    "        "
   ]
  },
  {
   "cell_type": "markdown",
   "metadata": {},
   "source": [
    "## cleaning tables \n",
    "1. drop based on shape - smaler than 2 in row or column will be droped\n",
    "2. drop if number of NAN elements are higher than others\n",
    "3. drop if all columns are objects"
   ]
  },
  {
   "cell_type": "code",
   "execution_count": null,
   "metadata": {},
   "outputs": [],
   "source": [
    "table_clean = []\n",
    "i=0\n",
    "j = len(tables)\n",
    "while i < j:\n",
    "    #print(i)\n",
    "    \n",
    "    if (tables[i-1].shape[1]<2) or (tables[i-1].shape[0]<2):\n",
    "        #del tables[i-1]\n",
    "        #j-=1\n",
    "        i+=1\n",
    "        continue\n",
    "    if tables[i-1].isna().sum().sum() > tables[i-1].count().sum():\n",
    "        \n",
    "        i+=1\n",
    "        continue\n",
    "    \n",
    "  \n",
    "    df = pd.DataFrame(tables[(i-1)])\n",
    "    \n",
    "    for column in df.columns:\n",
    "        if (df[column].dtypes != 'object') and (df[column].sum() > df[column].isna().sum()):\n",
    "            drop = False\n",
    "            break\n",
    "        else:\n",
    "            drop = True\n",
    "    #print(\"drop: \", drop)\n",
    "    if drop:\n",
    "        #del tables[i-1]\n",
    "        #j-=1\n",
    "        i+=1\n",
    "        continue\n",
    "    table_clean.append(df)\n",
    "    i+=1\n",
    "#print(i)\n"
   ]
  },
  {
   "cell_type": "code",
   "execution_count": null,
   "metadata": {},
   "outputs": [],
   "source": [
    "table_clean[8]"
   ]
  },
  {
   "cell_type": "code",
   "execution_count": null,
   "metadata": {},
   "outputs": [],
   "source": [
    "table_clean[5][\"Unnamed: 1\"].isna().sum()"
   ]
  },
  {
   "cell_type": "code",
   "execution_count": null,
   "metadata": {},
   "outputs": [],
   "source": [
    "info = pdfReader.getDocumentInfo()"
   ]
  },
  {
   "cell_type": "code",
   "execution_count": null,
   "metadata": {},
   "outputs": [],
   "source": [
    "info"
   ]
  },
  {
   "cell_type": "code",
   "execution_count": null,
   "metadata": {},
   "outputs": [],
   "source": [
    "page"
   ]
  },
  {
   "cell_type": "code",
   "execution_count": null,
   "metadata": {},
   "outputs": [],
   "source": [
    "tables[10].df"
   ]
  },
  {
   "cell_type": "markdown",
   "metadata": {},
   "source": [
    "# "
   ]
  }
 ],
 "metadata": {
  "kernelspec": {
   "display_name": "Python 3",
   "language": "python",
   "name": "python3"
  },
  "language_info": {
   "codemirror_mode": {
    "name": "ipython",
    "version": 3
   },
   "file_extension": ".py",
   "mimetype": "text/x-python",
   "name": "python",
   "nbconvert_exporter": "python",
   "pygments_lexer": "ipython3",
   "version": "3.8.5"
  }
 },
 "nbformat": 4,
 "nbformat_minor": 4
}
