{
 "cells": [
  {
   "cell_type": "markdown",
   "metadata": {},
   "source": [
    "# PDF table exptraction  "
   ]
  },
  {
   "cell_type": "code",
   "execution_count": 1,
   "metadata": {},
   "outputs": [],
   "source": [
    "import os\n",
    "import sys\n",
    "import tabula\n",
    "import PyPDF2\n",
    "import os\n",
    "import pandas as pd\n",
    "import numpy as np\n",
    "import shutil\n",
    "import re"
   ]
  },
  {
   "cell_type": "code",
   "execution_count": 2,
   "metadata": {},
   "outputs": [],
   "source": [
    "path = os.getcwd()\n",
    "path = path+'/../PDFs/'\n"
   ]
  },
  {
   "cell_type": "markdown",
   "metadata": {},
   "source": [
    "# Loop over all pdf files in the PDF directory"
   ]
  },
  {
   "cell_type": "code",
   "execution_count": 3,
   "metadata": {},
   "outputs": [
    {
     "name": "stdout",
     "output_type": "stream",
     "text": [
      "C.pdf\n",
      "Im1.pdf\n",
      "A.pdf\n",
      "B.pdf\n"
     ]
    }
   ],
   "source": [
    "for files in os.listdir(path):\n",
    "    if files.endswith(\".pdf\"):\n",
    "        print(files)\n",
    "    else:\n",
    "        print(files+\"X\")\n",
    "        "
   ]
  },
  {
   "cell_type": "markdown",
   "metadata": {},
   "source": [
    "### Reading pdf files using tabula and pypdf "
   ]
  },
  {
   "cell_type": "code",
   "execution_count": 4,
   "metadata": {},
   "outputs": [
    {
     "name": "stderr",
     "output_type": "stream",
     "text": [
      "Got stderr: Jun 25, 2021 2:36:21 PM org.apache.pdfbox.pdmodel.font.PDSimpleFont toUnicode\n",
      "WARNING: No Unicode mapping for H9254 (2) in font BHMHPI+Universal-GreekwithMathPi\n",
      "Jun 25, 2021 2:36:21 PM org.apache.pdfbox.pdmodel.font.PDSimpleFont toUnicode\n",
      "WARNING: No Unicode mapping for H11005 (3) in font BHMHPI+Universal-GreekwithMathPi\n",
      "Jun 25, 2021 2:36:23 PM org.apache.pdfbox.pdmodel.font.PDSimpleFont toUnicode\n",
      "WARNING: No Unicode mapping for H11569 (2) in font BHMIII+MathematicalPi-Six\n",
      "Jun 25, 2021 2:36:23 PM org.apache.pdfbox.pdmodel.font.PDSimpleFont toUnicode\n",
      "WARNING: No Unicode mapping for H11022 (4) in font BHMHPI+Universal-GreekwithMathPi\n",
      "Jun 25, 2021 2:36:24 PM org.apache.pdfbox.pdmodel.font.PDSimpleFont toUnicode\n",
      "WARNING: No Unicode mapping for H11002 (5) in font BHMHPI+Universal-GreekwithMathPi\n",
      "Jun 25, 2021 2:36:24 PM org.apache.pdfbox.pdmodel.font.PDSimpleFont toUnicode\n",
      "WARNING: No Unicode mapping for H11021 (6) in font BHMHPI+Universal-GreekwithMathPi\n",
      "Jun 25, 2021 2:36:24 PM org.apache.pdfbox.pdmodel.font.PDSimpleFont toUnicode\n",
      "WARNING: No Unicode mapping for H9252 (7) in font BHMHPI+Universal-GreekwithMathPi\n",
      "Jun 25, 2021 2:36:24 PM org.apache.pdfbox.pdmodel.font.PDSimpleFont toUnicode\n",
      "WARNING: No Unicode mapping for H9004 (8) in font BHMHPI+Universal-GreekwithMathPi\n",
      "Jun 25, 2021 2:36:27 PM org.apache.pdfbox.pdmodel.font.PDSimpleFont toUnicode\n",
      "WARNING: No Unicode mapping for H18546 (2) in font BHMKIC+Universal-NewswithCommPi\n",
      "Jun 25, 2021 2:36:27 PM org.apache.pdfbox.pdmodel.font.PDType1Font <init>\n",
      "WARNING: Using fallback font LiberationSans for base font Times-Roman\n",
      "Jun 25, 2021 2:36:27 PM org.apache.pdfbox.pdmodel.font.PDType1Font <init>\n",
      "WARNING: Using fallback font LiberationSans for base font Times-Bold\n",
      "Jun 25, 2021 2:36:27 PM org.apache.pdfbox.pdmodel.font.PDType1Font <init>\n",
      "WARNING: Using fallback font LiberationSans for base font Times-Italic\n",
      "Jun 25, 2021 2:36:27 PM org.apache.pdfbox.pdmodel.font.PDType1Font <init>\n",
      "WARNING: Using fallback font LiberationSans for base font Times-BoldItalic\n",
      "Jun 25, 2021 2:36:27 PM org.apache.pdfbox.pdmodel.font.PDType1Font <init>\n",
      "WARNING: Using fallback font LiberationSans for base font Helvetica\n",
      "Jun 25, 2021 2:36:27 PM org.apache.pdfbox.pdmodel.font.PDType1Font <init>\n",
      "WARNING: Using fallback font LiberationSans for base font Helvetica-Bold\n",
      "Jun 25, 2021 2:36:27 PM org.apache.pdfbox.pdmodel.font.PDType1Font <init>\n",
      "WARNING: Using fallback font LiberationSans for base font Helvetica-Oblique\n",
      "Jun 25, 2021 2:36:27 PM org.apache.pdfbox.pdmodel.font.PDType1Font <init>\n",
      "WARNING: Using fallback font LiberationSans for base font Helvetica-BoldOblique\n",
      "Jun 25, 2021 2:36:27 PM org.apache.pdfbox.pdmodel.font.PDType1Font <init>\n",
      "WARNING: Using fallback font LiberationSans for base font Courier\n",
      "Jun 25, 2021 2:36:27 PM org.apache.pdfbox.pdmodel.font.PDType1Font <init>\n",
      "WARNING: Using fallback font LiberationSans for base font Courier-Bold\n",
      "Jun 25, 2021 2:36:27 PM org.apache.pdfbox.pdmodel.font.PDType1Font <init>\n",
      "WARNING: Using fallback font LiberationSans for base font Courier-Oblique\n",
      "Jun 25, 2021 2:36:27 PM org.apache.pdfbox.pdmodel.font.PDType1Font <init>\n",
      "WARNING: Using fallback font LiberationSans for base font Courier-BoldOblique\n",
      "Jun 25, 2021 2:36:27 PM org.apache.pdfbox.pdmodel.font.PDType1Font <init>\n",
      "WARNING: Using fallback font LiberationSans for base font Symbol\n",
      "Jun 25, 2021 2:36:27 PM org.apache.pdfbox.pdmodel.font.PDType1Font <init>\n",
      "WARNING: Using fallback font LiberationSans for base font ZapfDingbats\n",
      "Jun 25, 2021 2:36:27 PM org.apache.pdfbox.pdmodel.font.PDType1Font <init>\n",
      "WARNING: Using fallback font LiberationSans for Helvetica\n",
      "Jun 25, 2021 2:36:28 PM org.apache.pdfbox.pdmodel.font.PDType1Font <init>\n",
      "WARNING: Using fallback font LiberationSans for Helvetica\n",
      "\n"
     ]
    }
   ],
   "source": [
    "# reading PDF file to extract tables from\n",
    "file = path+\"A.pdf\"\n",
    "tables = tabula.read_pdf(file, multiple_tables=True, pages='all')\n",
    "pdf_file = PyPDF2.PdfFileReader(open(file,'rb'))"
   ]
  },
  {
   "cell_type": "code",
   "execution_count": 5,
   "metadata": {},
   "outputs": [
    {
     "name": "stdout",
     "output_type": "stream",
     "text": [
      "35\n"
     ]
    }
   ],
   "source": [
    "# get number of pages in pdf file \n",
    "totalPages = pdf_file.numPages\n",
    "print(totalPages)\n"
   ]
  },
  {
   "cell_type": "markdown",
   "metadata": {},
   "source": [
    "### First attempt to find and correct 90 deg rotated pages "
   ]
  },
  {
   "cell_type": "code",
   "execution_count": null,
   "metadata": {},
   "outputs": [],
   "source": [
    "for i in range(1,totalPages):\n",
    "    #print (pdf_file.getPage(i).get('/Rotate'))\n",
    "    #check if file is rotated at any angle, if yes, print the information in the file\n",
    "    if (pdf_file.getPage(i).get('/Rotate') != None and (pdf_file.getPage(i).get('/Rotate')) != 0):\n",
    "        print(\"Page: \"+str(i)+\" \"+\"Angle: \"+str(pdf_file.getPage(i).get('/Rotate')))\n",
    "        "
   ]
  },
  {
   "cell_type": "markdown",
   "metadata": {},
   "source": [
    "## cleaning tables \n",
    "1. drop based on shape - smaler than 2 in row or column will be droped\n",
    "2. drop if number of NAN elements are higher than others\n",
    "3. drop if all columns are objects"
   ]
  },
  {
   "cell_type": "code",
   "execution_count": null,
   "metadata": {},
   "outputs": [],
   "source": [
    "table_clean = []\n",
    "i=0\n",
    "j = len(tables)\n",
    "while i < j:\n",
    "    #print(i)\n",
    "    \n",
    "    if (tables[i].shape[1]<2) or (tables[i].shape[0]<2):\n",
    "        #del tables[i-1]\n",
    "        #j-=1\n",
    "        i+=1\n",
    "        continue\n",
    "    if tables[i].isna().sum().sum() > tables[i].count().sum():\n",
    "        \n",
    "        i+=1\n",
    "        continue\n",
    "    \n",
    "  \n",
    "    df = pd.DataFrame(tables[i])\n",
    "    \n",
    "    for column in df.columns:\n",
    "        if (df[column].dtypes != 'object') and (df[column].sum() > df[column].isna().sum()):\n",
    "            drop = False\n",
    "            break\n",
    "        else:\n",
    "            drop = True\n",
    "    #print(\"drop: \", drop)\n",
    "    if drop:\n",
    "        #del tables[i-1]\n",
    "        #j-=1\n",
    "        i+=1\n",
    "        continue\n",
    "    \n",
    "    #drop columns if all values are NAN\n",
    "    \n",
    "    df = df.dropna(axis=1, how='all')\n",
    "    \n",
    "    #add to table clean\n",
    "    table_clean.append(df)\n",
    "    i+=1\n",
    "#print(i)\n"
   ]
  },
  {
   "cell_type": "code",
   "execution_count": null,
   "metadata": {},
   "outputs": [],
   "source": [
    "x = [tables[0][column][i] for column in tables[0].columns for i in range(0, len(tables[0])) if str(tables[0][column][i]).replace(\".\",\"\").isnumeric()]"
   ]
  },
  {
   "cell_type": "code",
   "execution_count": 6,
   "metadata": {},
   "outputs": [
    {
     "data": {
      "text/plain": [
       "{'/Producer': 'PyPDF2',\n",
       " '/rgid': 'PB:318737359_AS:522316934074368@1501541469318'}"
      ]
     },
     "execution_count": 6,
     "metadata": {},
     "output_type": "execute_result"
    }
   ],
   "source": [
    "pdf_file.getDocumentInfo()"
   ]
  },
  {
   "cell_type": "code",
   "execution_count": null,
   "metadata": {},
   "outputs": [],
   "source": [
    "pdf_page = pdf_file.getPage(41)\n",
    "pdf_page.scaleBy(0.20)\n",
    "writer = PyPDF2.PdfFileWriter()  # create a writer to save the updated results\n",
    "writer.addPage(page)\n",
    "with open(\"scaled.pdf\", \"wb+\") as f:\n",
    "    writer.write(f)"
   ]
  },
  {
   "cell_type": "code",
   "execution_count": null,
   "metadata": {},
   "outputs": [],
   "source": []
  },
  {
   "cell_type": "code",
   "execution_count": 11,
   "metadata": {},
   "outputs": [
    {
     "data": {
      "text/plain": [
       "{'/Title': 'Leadership Training Design, Delivery, and Implementation: A Meta-Analysis',\n",
       " '/Page': 1,\n",
       " '/Type': '/XYZ',\n",
       " '/Left': 343,\n",
       " '/Top': 689,\n",
       " '/Zoom': 0}"
      ]
     },
     "execution_count": 11,
     "metadata": {},
     "output_type": "execute_result"
    }
   ],
   "source": [
    "pdf_file.getOutlines()[0]#['/Title']"
   ]
  },
  {
   "cell_type": "markdown",
   "metadata": {},
   "source": [
    "# Fixing \"Unnamed\" columns \n",
    "if half of the coulumn are unnamed, use next row for names (if the next row is str)"
   ]
  },
  {
   "cell_type": "code",
   "execution_count": null,
   "metadata": {},
   "outputs": [],
   "source": [
    "for num in range(len(table_clean)):\n",
    "    rows_with_nan=[]\n",
    "    i = 1\n",
    "    j = table_clean[num].columns.size\n",
    "    for column in table_clean[num].columns:\n",
    "        if (\"Unnamed\"  in column):\n",
    "            i+=1\n",
    "    if i>j/2:\n",
    "        table_clean[num] = table_clean[num].rename(columns=table_clean[num].iloc[0,0:])\n",
    "        table_clean[num] = table_clean[num].drop([0])\n",
    "    #re-indexing\n",
    "    table_clean[num].index = range(len(table_clean[num]))   \n",
    "    \n",
    "    # filter rows with nan and add the row index to next row\n",
    "    rows_with_nan = [index for index, row in table_clean[num].iterrows() if row.isnull().sum() > 2]\n",
    "    \n",
    "    if rows_with_nan: \n",
    "        for k in rows_with_nan:\n",
    "            table_clean[num].iat[k+1,0] =  str(table_clean[num].iloc[k,0]) + \"-\" +  str(table_clean[num].iloc[k+1,0])\n",
    "        table_clean[num] = table_clean[num].drop(rows_with_nan)\n",
    "        \n",
    "    table_clean[num].columns.str.upper()\n",
    "    \n",
    "    # if left and bottom of a column is nan move it to left and drop the column\n",
    "    \n",
    "    if table_clean[num].columns[0] is np.nan and table_clean[num].columns[1] is not np.nan and table_clean[num].iloc[2,1] is np.nan:\n",
    "        table_clean[num] = table_clean[num].rename(columns={table_clean[num].columns[0]:str(table_clean[num].columns[1]).upper()})\n",
    "        table_clean[num] = table_clean[num].drop(columns = [str(table_clean[num].columns[1])])\n",
    "    \n",
    "            "
   ]
  },
  {
   "cell_type": "code",
   "execution_count": null,
   "metadata": {},
   "outputs": [],
   "source": [
    "table_clean[0].columns.size"
   ]
  },
  {
   "cell_type": "code",
   "execution_count": null,
   "metadata": {},
   "outputs": [],
   "source": [
    "x = [column for column in table_clean[0].columns if column.replace(\".\",\"\").isnumeric()]\n",
    "len(x)"
   ]
  },
  {
   "cell_type": "markdown",
   "metadata": {},
   "source": [
    "# Saving tables to an exel file"
   ]
  },
  {
   "cell_type": "code",
   "execution_count": null,
   "metadata": {},
   "outputs": [],
   "source": [
    "writer = pd.ExcelWriter('./test2.xlsx', engine='xlsxwriter')\n",
    "start_row = 1\n",
    "\n",
    "worksheet_name = \"A1\"\n",
    "workbook  = writer.book\n",
    "worksheet=workbook.add_worksheet(worksheet_name)\n",
    "writer.sheets[worksheet_name] = worksheet\n",
    "\n",
    "#worksheet.write_string(0, 0,\"Title: \" + paper_title)\n",
    "worksheet.write_string(1, 0,\"Table: \")\n",
    "\n",
    "# Create a format to use in the merged range.\n",
    "merge_format = workbook.add_format({\n",
    "    'bold': 1,\n",
    "    'border': 2,\n",
    "    'align': 'left',\n",
    "    'valign': 'vcenter',\n",
    "    'fg_color': '#00FF00'})\n",
    "\n",
    "# Merge 5 cells.\n",
    "worksheet.merge_range('A1:J1',\"Title: \" + paper_title , merge_format)\n",
    "\n",
    "\n",
    "for ii in range(len(table_clean)):\n",
    "    \n",
    "    #adding cell formatting for table number cells\n",
    "    Cell_format = workbook.add_format({\n",
    "    'bold': 1,\n",
    "    'border': 2,\n",
    "    'align': 'left',\n",
    "    'valign': 'vcenter',\n",
    "    'fg_color': '#FFD7D7'})\n",
    "    worksheet.write_string(start_row, 0,\"Table: {} \".format(ii+1), Cell_format)\n",
    "    \n",
    "    \n",
    "    if ii==0:\n",
    "        \n",
    "        table_clean[ii].to_excel(writer, sheet_name=worksheet_name, startrow=start_row, startcol=1, index =False)\n",
    "    else:\n",
    "        table_clean[ii].to_excel(writer, sheet_name=worksheet_name, startrow=start_row, startcol=1, index = False)\n",
    "    \n",
    "    start_row += table_clean[ii].shape[0]\n",
    "\n",
    "writer.save()\n",
    "\n",
    "        \n",
    "    "
   ]
  },
  {
   "cell_type": "code",
   "execution_count": null,
   "metadata": {},
   "outputs": [],
   "source": [
    "shutil.move(os.getcwd()+\"/x.pdf\", path_rot+\"x.pdf\")"
   ]
  },
  {
   "cell_type": "code",
   "execution_count": null,
   "metadata": {},
   "outputs": [],
   "source": [
    "path_rot = os.getcwd() + \"/RotatedPages/\""
   ]
  },
  {
   "cell_type": "code",
   "execution_count": null,
   "metadata": {},
   "outputs": [],
   "source": [
    "os.mkdir(path_rot)"
   ]
  },
  {
   "cell_type": "code",
   "execution_count": null,
   "metadata": {},
   "outputs": [],
   "source": [
    "pdf_writer = PyPDF2.PdfFileWriter()\n",
    "\n",
    "pdf_page = pdf_file.getPage(41)\n",
    "pdf_page.rotateClockwise(90)  # rotateClockwise()\n",
    "pdf_writer.addPage(pdf_page)\n",
    "\n",
    "with open('P_rotated.pdf', 'wb') as pdf_file_rotated:\n",
    "    pdf_writer.write(pdf_file_rotated)\n",
    "\n",
    "tables = tabula.read_pdf('P_rotated.pdf', multiple_tables=True, pages='all')"
   ]
  },
  {
   "cell_type": "markdown",
   "metadata": {},
   "source": [
    "# "
   ]
  },
  {
   "cell_type": "code",
   "execution_count": null,
   "metadata": {},
   "outputs": [],
   "source": [
    "df = pd.DataFrame({\"A\":['abcd', 'asde', 'dsae'],\n",
    "                  \"B\":[\"-df\", \"dfe\", \"rfe\"]})"
   ]
  },
  {
   "cell_type": "code",
   "execution_count": null,
   "metadata": {},
   "outputs": [],
   "source": [
    "df"
   ]
  },
  {
   "cell_type": "code",
   "execution_count": null,
   "metadata": {},
   "outputs": [],
   "source": [
    "df.replace(\"a\", \"A\", regex=True)"
   ]
  },
  {
   "cell_type": "code",
   "execution_count": null,
   "metadata": {},
   "outputs": [],
   "source": [
    "df"
   ]
  },
  {
   "cell_type": "code",
   "execution_count": null,
   "metadata": {},
   "outputs": [],
   "source": [
    "set1={\"ABC\", \"DES\", \"KLCD\", \"FGDE\"}"
   ]
  },
  {
   "cell_type": "code",
   "execution_count": null,
   "metadata": {},
   "outputs": [],
   "source": []
  },
  {
   "cell_type": "code",
   "execution_count": null,
   "metadata": {},
   "outputs": [],
   "source": [
    "set(\"ABB DFG GD GGD GDD\".split())"
   ]
  },
  {
   "cell_type": "code",
   "execution_count": null,
   "metadata": {},
   "outputs": [],
   "source": []
  }
 ],
 "metadata": {
  "kernelspec": {
   "display_name": "Python 3",
   "language": "python",
   "name": "python3"
  },
  "language_info": {
   "codemirror_mode": {
    "name": "ipython",
    "version": 3
   },
   "file_extension": ".py",
   "mimetype": "text/x-python",
   "name": "python",
   "nbconvert_exporter": "python",
   "pygments_lexer": "ipython3",
   "version": "3.8.5"
  }
 },
 "nbformat": 4,
 "nbformat_minor": 4
}
