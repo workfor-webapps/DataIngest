{
 "cells": [
  {
   "cell_type": "markdown",
   "metadata": {},
   "source": [
    "# PDF table exptraction  "
   ]
  },
  {
   "cell_type": "code",
   "execution_count": null,
   "metadata": {},
   "outputs": [],
   "source": [
    "import os\n",
    "import sys\n",
    "import tabula\n",
    "import PyPDF2\n",
    "import os\n",
    "import pandas as pd\n",
    "import numpy as np"
   ]
  },
  {
   "cell_type": "code",
   "execution_count": null,
   "metadata": {},
   "outputs": [],
   "source": [
    "path = os.getcwd()\n",
    "path = path+'/../PDFs/'\n"
   ]
  },
  {
   "cell_type": "markdown",
   "metadata": {},
   "source": [
    "# Loop over all pdf files in the PDF directory"
   ]
  },
  {
   "cell_type": "code",
   "execution_count": null,
   "metadata": {},
   "outputs": [],
   "source": [
    "for files in os.listdir(path):\n",
    "    if files.endswith(\".pdf\"):\n",
    "        print(files)\n",
    "    else:\n",
    "        continue\n",
    "        "
   ]
  },
  {
   "cell_type": "markdown",
   "metadata": {},
   "source": [
    "### Reading pdf files using tabula and pypdf "
   ]
  },
  {
   "cell_type": "code",
   "execution_count": null,
   "metadata": {},
   "outputs": [],
   "source": [
    "# reading PDF file to extract tables from\n",
    "file = path+\"./A.pdf\"\n",
    "tables = tabula.read_pdf(file, multiple_tables=True, pages='all')\n",
    "pdf_file = PyPDF2.PdfFileReader(open(file,'rb'))"
   ]
  },
  {
   "cell_type": "code",
   "execution_count": null,
   "metadata": {},
   "outputs": [],
   "source": [
    "# get number of pages in pdf file \n",
    "totalPages = pdf_file.numPages\n",
    "print(totalPages)\n"
   ]
  },
  {
   "cell_type": "markdown",
   "metadata": {},
   "source": [
    "### First attempt to find and correct 90 deg rotated pages "
   ]
  },
  {
   "cell_type": "code",
   "execution_count": null,
   "metadata": {},
   "outputs": [],
   "source": [
    "for i in range(1,totalPages):\n",
    "    #print (pdf_file.getPage(i).get('/Rotate'))\n",
    "    #check if file is rotated at any angle, if yes, print the information in the file\n",
    "    if (pdf_file.getPage(i).get('/Rotate') != None and (pdf_file.getPage(i).get('/Rotate')) != 0):\n",
    "        print(\"Page: \"+str(i)+\" \"+\"Angle: \"+str(pdf_file.getPage(i).get('/Rotate')))\n",
    "        "
   ]
  },
  {
   "cell_type": "markdown",
   "metadata": {},
   "source": [
    "## cleaning tables \n",
    "1. drop based on shape - smaler than 2 in row or column will be droped\n",
    "2. drop if number of NAN elements are higher than others\n",
    "3. drop if all columns are objects"
   ]
  },
  {
   "cell_type": "code",
   "execution_count": null,
   "metadata": {},
   "outputs": [],
   "source": [
    "table_clean = []\n",
    "i=0\n",
    "j = len(tables)\n",
    "while i < j:\n",
    "    #print(i)\n",
    "    \n",
    "    if (tables[i-1].shape[1]<2) or (tables[i-1].shape[0]<2):\n",
    "        #del tables[i-1]\n",
    "        #j-=1\n",
    "        i+=1\n",
    "        continue\n",
    "    if tables[i-1].isna().sum().sum() > tables[i-1].count().sum():\n",
    "        \n",
    "        i+=1\n",
    "        continue\n",
    "    \n",
    "  \n",
    "    df = pd.DataFrame(tables[(i-1)])\n",
    "    \n",
    "    for column in df.columns:\n",
    "        if (df[column].dtypes != 'object') and (df[column].sum() > df[column].isna().sum()):\n",
    "            drop = False\n",
    "            break\n",
    "        else:\n",
    "            drop = True\n",
    "    #print(\"drop: \", drop)\n",
    "    if drop:\n",
    "        #del tables[i-1]\n",
    "        #j-=1\n",
    "        i+=1\n",
    "        continue\n",
    "    \n",
    "    #drop columns if all values are NAN\n",
    "    \n",
    "    df = df.dropna(axis=1, how='all')\n",
    "    \n",
    "    #add to table clean\n",
    "    table_clean.append(df)\n",
    "    i+=1\n",
    "#print(i)\n"
   ]
  },
  {
   "cell_type": "code",
   "execution_count": null,
   "metadata": {},
   "outputs": [],
   "source": [
    "len(table_clean)"
   ]
  },
  {
   "cell_type": "markdown",
   "metadata": {},
   "source": [
    "# Fixing \"Unnamed\" columns \n",
    "if half of the coulumn are unnamed, use next row for names (if the next row is str)"
   ]
  },
  {
   "cell_type": "code",
   "execution_count": null,
   "metadata": {},
   "outputs": [],
   "source": [
    "for num in range(len(table_clean)):\n",
    "    rows_with_nan=[]\n",
    "    i = 1\n",
    "    j = table_clean[num].columns.size\n",
    "    for column in table_clean[num].columns:\n",
    "        if (\"Unnamed\"  in column):\n",
    "            i+=1\n",
    "    if i>j/2:\n",
    "        table_clean[num] = table_clean[num].rename(columns=table_clean[num].iloc[0,0:])\n",
    "        table_clean[num] = table_clean[num].drop([0])\n",
    "    #re-indexing\n",
    "    table_clean[num].index = range(len(table_clean[num]))   \n",
    "    \n",
    "    # filter rows with nan and add the row index to next row\n",
    "    rows_with_nan = [index for index, row in table_clean[num].iterrows() if row.isnull().sum() > 2]\n",
    "    \n",
    "    if rows_with_nan: \n",
    "        for k in rows_with_nan:\n",
    "            table_clean[num].iat[k+1,0] =  str(table_clean[num].iloc[k,0]) + \"-\" +  str(table_clean[num].iloc[k+1,0])\n",
    "        table_clean[num] = table_clean[num].drop(rows_with_nan)\n",
    "        \n",
    "    table_clean[num].columns.str.upper()\n",
    "    \n",
    "    # if left and bottom of a column is nan move it to left and drop the column\n",
    "    \n",
    "    if table_clean[num].columns[0] is np.nan and table_clean[num].columns[1] is not np.nan and table_clean[num].iloc[2,1] is np.nan:\n",
    "        table_clean[num] = table_clean[num].rename(columns={table_clean[num].columns[0]:str(table_clean[num].columns[1]).upper()})\n",
    "        table_clean[num] = table_clean[num].drop(columns = [str(table_clean[num].columns[1])])\n",
    "    \n",
    "            "
   ]
  },
  {
   "cell_type": "code",
   "execution_count": null,
   "metadata": {},
   "outputs": [],
   "source": [
    "table_clean[4]"
   ]
  },
  {
   "cell_type": "code",
   "execution_count": null,
   "metadata": {},
   "outputs": [],
   "source": [
    "paper_title = pdf_file.getOutlines()[0][\"/Title\"]\n"
   ]
  },
  {
   "cell_type": "markdown",
   "metadata": {},
   "source": [
    "# Saving tables to an exel file"
   ]
  },
  {
   "cell_type": "code",
   "execution_count": null,
   "metadata": {},
   "outputs": [],
   "source": [
    "writer = pd.ExcelWriter('./test2.xlsx', engine='xlsxwriter')\n",
    "start_row = 1\n",
    "\n",
    "worksheet_name = \"A1\"\n",
    "workbook  = writer.book\n",
    "worksheet=workbook.add_worksheet(worksheet_name)\n",
    "writer.sheets[worksheet_name] = worksheet\n",
    "\n",
    "#worksheet.write_string(0, 0,\"Title: \" + paper_title)\n",
    "worksheet.write_string(1, 0,\"Table: \")\n",
    "\n",
    "# Create a format to use in the merged range.\n",
    "merge_format = workbook.add_format({\n",
    "    'bold': 1,\n",
    "    'border': 2,\n",
    "    'align': 'left',\n",
    "    'valign': 'vcenter',\n",
    "    'fg_color': '#00FF00'})\n",
    "\n",
    "# Merge 5 cells.\n",
    "worksheet.merge_range('A1:J1',\"Title: \" + paper_title , merge_format)\n",
    "\n",
    "\n",
    "for ii in range(len(table_clean)):\n",
    "    \n",
    "    #adding cell formatting for table number cells\n",
    "    Cell_format = workbook.add_format({\n",
    "    'bold': 1,\n",
    "    'border': 2,\n",
    "    'align': 'left',\n",
    "    'valign': 'vcenter',\n",
    "    'fg_color': '#FFD7D7'})\n",
    "    worksheet.write_string(start_row, 0,\"Table: {} \".format(ii+1), Cell_format)\n",
    "    \n",
    "    \n",
    "    if ii==0:\n",
    "        \n",
    "        table_clean[ii].to_excel(writer, sheet_name=worksheet_name, startrow=start_row, startcol=1, index =False)\n",
    "    else:\n",
    "        table_clean[ii].to_excel(writer, sheet_name=worksheet_name, startrow=start_row, startcol=1, index = False)\n",
    "    \n",
    "    start_row += table_clean[ii].shape[0]\n",
    "\n",
    "writer.save()\n",
    "\n",
    "        \n",
    "    "
   ]
  },
  {
   "cell_type": "code",
   "execution_count": null,
   "metadata": {},
   "outputs": [],
   "source": []
  },
  {
   "cell_type": "code",
   "execution_count": null,
   "metadata": {},
   "outputs": [],
   "source": []
  },
  {
   "cell_type": "code",
   "execution_count": null,
   "metadata": {},
   "outputs": [],
   "source": []
  },
  {
   "cell_type": "code",
   "execution_count": null,
   "metadata": {},
   "outputs": [],
   "source": []
  },
  {
   "cell_type": "markdown",
   "metadata": {},
   "source": [
    "# "
   ]
  }
 ],
 "metadata": {
  "kernelspec": {
   "display_name": "Python 3",
   "language": "python",
   "name": "python3"
  },
  "language_info": {
   "codemirror_mode": {
    "name": "ipython",
    "version": 3
   },
   "file_extension": ".py",
   "mimetype": "text/x-python",
   "name": "python",
   "nbconvert_exporter": "python",
   "pygments_lexer": "ipython3",
   "version": "3.8.5"
  }
 },
 "nbformat": 4,
 "nbformat_minor": 4
}
