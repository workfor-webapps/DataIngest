{
 "cells": [
  {
   "cell_type": "markdown",
   "metadata": {},
   "source": [
    "# PDF table exptraction  "
   ]
  },
  {
   "cell_type": "code",
   "execution_count": null,
   "metadata": {},
   "outputs": [],
   "source": [
    "import os\n",
    "import sys\n",
    "import tabula\n",
    "import PyPDF2\n",
    "import os\n",
    "import pandas as pd\n",
    "import numpy as np"
   ]
  },
  {
   "cell_type": "code",
   "execution_count": null,
   "metadata": {},
   "outputs": [],
   "source": [
    "path = os.getcwd()\n",
    "path = path+'/../PDFs/'"
   ]
  },
  {
   "cell_type": "markdown",
   "metadata": {},
   "source": [
    "### Reading pdf files using tabula and pypdf"
   ]
  },
  {
   "cell_type": "code",
   "execution_count": null,
   "metadata": {},
   "outputs": [],
   "source": [
    "\n",
    "# reading PDF file to extract tables from\n",
    "file = path+\"./B.pdf\"\n",
    "tables = tabula.read_pdf(file, multiple_tables=True, pages='16')\n",
    "pdf_file = PyPDF2.PdfFileReader(open(file,'rb'))"
   ]
  },
  {
   "cell_type": "code",
   "execution_count": null,
   "metadata": {},
   "outputs": [],
   "source": [
    "# get number of pages in pdf file \n",
    "totalPages = pdf_file.numPages\n",
    "print(totalPages)\n"
   ]
  },
  {
   "cell_type": "code",
   "execution_count": null,
   "metadata": {},
   "outputs": [],
   "source": [
    " pdf_file.getDocumentInfo()"
   ]
  },
  {
   "cell_type": "markdown",
   "metadata": {},
   "source": [
    "### First attempt to find and correct 90 deg rotated pages "
   ]
  },
  {
   "cell_type": "code",
   "execution_count": null,
   "metadata": {},
   "outputs": [],
   "source": [
    "for i in range(1,totalPages):\n",
    "    #print (pdf_file.getPage(i).get('/Rotate'))\n",
    "    #check if file is rotated at any angle, if yes, print the information in the file\n",
    "    if (pdf_file.getPage(i).get('/Rotate') != None and (pdf_file.getPage(i).get('/Rotate')) != 0):\n",
    "        print(\"Page: \"+str(i)+\" \"+\"Angle: \"+str(pdf_file.getPage(i).get('/Rotate')))\n",
    "    \n",
    "    \n",
    "        "
   ]
  },
  {
   "cell_type": "code",
   "execution_count": null,
   "metadata": {},
   "outputs": [],
   "source": [
    "pdf_writer = PyPDF2.PdfFileWriter()\n",
    "\n",
    "pdf_page = pdf_file.getPage(16)\n",
    "pdf_page.rotateClockwise(90)  # rotateClockwise()\n",
    "pdf_writer.addPage(pdf_page)\n",
    "\n",
    "with open('P_rotated.pdf', 'wb') as pdf_file_rotated:\n",
    "    pdf_writer.write(pdf_file_rotated)"
   ]
  },
  {
   "cell_type": "code",
   "execution_count": null,
   "metadata": {},
   "outputs": [],
   "source": [
    "tables_rot = tabula.read_pdf('P_rotated.pdf', multiple_tables=True)"
   ]
  },
  {
   "cell_type": "code",
   "execution_count": null,
   "metadata": {},
   "outputs": [],
   "source": [
    "pdf_file.getPage(20).get('/Rotate')\n",
    "\n",
    "tables_rot"
   ]
  },
  {
   "cell_type": "markdown",
   "metadata": {},
   "source": [
    "## cleaning tables \n",
    "1. drop based on shape - smaler than 2 in row or column will be droped\n",
    "2. drop if number of NAN elements are higher than others\n",
    "3. drop if all columns are objects"
   ]
  },
  {
   "cell_type": "code",
   "execution_count": null,
   "metadata": {},
   "outputs": [],
   "source": [
    "table_clean = []\n",
    "i=0\n",
    "j = len(tables)\n",
    "while i < j:\n",
    "    #print(i)\n",
    "    \n",
    "    if (tables[i-1].shape[1]<2) or (tables[i-1].shape[0]<2):\n",
    "        #del tables[i-1]\n",
    "        #j-=1\n",
    "        i+=1\n",
    "        continue\n",
    "    if tables[i-1].isna().sum().sum() > tables[i-1].count().sum():\n",
    "        \n",
    "        i+=1\n",
    "        continue\n",
    "    \n",
    "  \n",
    "    df = pd.DataFrame(tables[(i-1)])\n",
    "    \n",
    "    for column in df.columns:\n",
    "        if (df[column].dtypes != 'object') and (df[column].sum() > df[column].isna().sum()):\n",
    "            drop = False\n",
    "            break\n",
    "        else:\n",
    "            drop = True\n",
    "    #print(\"drop: \", drop)\n",
    "    if drop:\n",
    "        #del tables[i-1]\n",
    "        #j-=1\n",
    "        i+=1\n",
    "        continue\n",
    "    \n",
    "    #drop columns if all values are NAN\n",
    "    \n",
    "    df = df.dropna(axis=1, how='all')\n",
    "    \n",
    "    #add to table clean\n",
    "    table_clean.append(df)\n",
    "    i+=1\n",
    "#print(i)\n"
   ]
  },
  {
   "cell_type": "code",
   "execution_count": null,
   "metadata": {},
   "outputs": [],
   "source": [
    "len(table_clean)"
   ]
  },
  {
   "cell_type": "markdown",
   "metadata": {},
   "source": [
    "# Fixing Unnamed columns \n",
    "if half of the coulumn names are unnamed, use next row for names if the next row is str"
   ]
  },
  {
   "cell_type": "code",
   "execution_count": null,
   "metadata": {},
   "outputs": [],
   "source": [
    "for num in range(len(table_clean)):\n",
    "    rows_with_nan=[]\n",
    "    i = 1\n",
    "    j = table_clean[num].columns.size\n",
    "    for column in table_clean[num].columns:\n",
    "        if (\"Unnamed\"  in column):\n",
    "            i+=1\n",
    "    if i>j/2:\n",
    "        table_clean[num] = table_clean[num].rename(columns=table_clean[num].iloc[0,0:])\n",
    "        table_clean[num] = table_clean[num].drop([0])\n",
    "    #re-indexing\n",
    "    table_clean[num].index = range(len(table_clean[num]))   \n",
    "    \n",
    "    # filter rows with nan and add the row index to next row\n",
    "    rows_with_nan = [index for index, row in table_clean[num].iterrows() if row.isnull().sum() > 2]\n",
    "    \n",
    "    if rows_with_nan: \n",
    "        for k in rows_with_nan:\n",
    "            table_clean[num].iat[k+1,0] =  str(table_clean[num].iloc[k,0]) + \"-\" +  str(table_clean[num].iloc[k+1,0])\n",
    "        table_clean[num] = table_clean[num].drop(rows_with_nan)\n",
    "        \n",
    "    table_clean[num].columns.str.upper()\n",
    "    \n",
    "    # if left and bottom of a column is nan move it to left and drop the column\n",
    "    \n",
    "    if table_clean[num].columns[0] is np.nan and table_clean[num].columns[1] is not np.nan and table_clean[num].iloc[2,1] is np.nan:\n",
    "        table_clean[num] = table_clean[num].rename(columns={table_clean[num].columns[0]:str(table_clean[num].columns[1]).upper()})\n",
    "        table_clean[num] = table_clean[num].drop(columns = [str(table_clean[num].columns[1])])\n",
    "    \n",
    "            "
   ]
  },
  {
   "cell_type": "code",
   "execution_count": null,
   "metadata": {},
   "outputs": [],
   "source": [
    "table_clean[0]\n"
   ]
  },
  {
   "cell_type": "code",
   "execution_count": null,
   "metadata": {},
   "outputs": [],
   "source": [
    "table_clean[0].columns[8].isnumeric()"
   ]
  },
  {
   "cell_type": "code",
   "execution_count": null,
   "metadata": {},
   "outputs": [],
   "source": [
    "float(table_clean[0].columns[8])"
   ]
  },
  {
   "cell_type": "code",
   "execution_count": null,
   "metadata": {},
   "outputs": [],
   "source": [
    "x = [column for column in table_clean[0].columns if column.isnumeric()]\n",
    "len(x)"
   ]
  },
  {
   "cell_type": "code",
   "execution_count": null,
   "metadata": {},
   "outputs": [],
   "source": [
    "rows_with_nan = [index for index, row in table_clean[1].iterrows() if row.isnull().sum() > 2]"
   ]
  },
  {
   "cell_type": "code",
   "execution_count": null,
   "metadata": {},
   "outputs": [],
   "source": [
    "for i in rows_with_nan:\n",
    "    \n",
    "    table_clean[0].iat[i+1,0] =  str(table_clean[0].iloc[i,0]) + \"-\" +  str(table_clean[0].iloc[i+1,0])\n",
    "    \n",
    "#table_clean[0] = table_clean[0].drop(rows_with_nan)"
   ]
  },
  {
   "cell_type": "code",
   "execution_count": null,
   "metadata": {},
   "outputs": [],
   "source": [
    "table_clean[0] = table_clean[0].drop(rows_with_nan)"
   ]
  },
  {
   "cell_type": "code",
   "execution_count": null,
   "metadata": {},
   "outputs": [],
   "source": [
    "table_clean[0].columns.str.upper()"
   ]
  },
  {
   "cell_type": "code",
   "execution_count": null,
   "metadata": {},
   "outputs": [],
   "source": [
    "rows_with_nan = []\n",
    "if not rows_with_nan:\n",
    "    print(\"X\")"
   ]
  },
  {
   "cell_type": "markdown",
   "metadata": {},
   "source": [
    "# "
   ]
  }
 ],
 "metadata": {
  "kernelspec": {
   "display_name": "Python 3",
   "language": "python",
   "name": "python3"
  },
  "language_info": {
   "codemirror_mode": {
    "name": "ipython",
    "version": 3
   },
   "file_extension": ".py",
   "mimetype": "text/x-python",
   "name": "python",
   "nbconvert_exporter": "python",
   "pygments_lexer": "ipython3",
   "version": "3.8.10"
  }
 },
 "nbformat": 4,
 "nbformat_minor": 4
}
